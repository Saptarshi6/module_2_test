{
  "nbformat": 4,
  "nbformat_minor": 0,
  "metadata": {
    "colab": {
      "provenance": []
    },
    "kernelspec": {
      "name": "python3",
      "display_name": "Python 3"
    },
    "language_info": {
      "name": "python"
    }
  },
  "cells": [
    {
      "cell_type": "code",
      "source": [
        "#Theory questions-"
      ],
      "metadata": {
        "id": "PaVUxJfodlV6"
      },
      "execution_count": null,
      "outputs": []
    },
    {
      "cell_type": "markdown",
      "source": [
        "1. What is python and why is python popular?\n",
        "\n",
        "   * Python is a programming language that is easy to understand and write, making it a popular choice among developers and programmers.\n",
        "   \n",
        "   * It is popular because it is compatible with various programming paradigms, such as procedural, object-oriented, and functional programming.   "
      ],
      "metadata": {
        "id": "InU_z9O8YvNg"
      }
    },
    {
      "cell_type": "markdown",
      "source": [
        "2. What is an interpreter in Python?\n",
        " * A python interpretor is a computer programme that converts high-level program statement into machine code. An interpreter converts the command that we give into a computer code that the computer can understand."
      ],
      "metadata": {
        "id": "YiHSPFALaPn5"
      }
    },
    {
      "cell_type": "markdown",
      "source": [
        "3. What are predefined keywords in Python?\n",
        "\n",
        " * Keywords are reserved words in Python that have special meanings and cannot be used as identifiers (variable names, function names, etc.).\n",
        "Examples of keywords include if, else, while, for, def, class, import, try, except, return, True, False, None, etc.\n",
        "Keywords are case-sensitive and cannot be redefined or overridden within a Python program.\n",
        "\n",
        "\n"
      ],
      "metadata": {
        "id": "82DlwvagZhLj"
      }
    },
    {
      "cell_type": "markdown",
      "source": [
        "4. Can keywords be used as variable names?\n",
        " * No, keywords cannot be used as variable names. Keywords are case-sensitive and cannot be redefined or overridden within a Python program."
      ],
      "metadata": {
        "id": "kyQppUt9cbW3"
      }
    },
    {
      "cell_type": "markdown",
      "source": [
        "5. What is mutibility in Python?\n",
        " * In Python, objects can be either changeable or unchangeable.\n",
        "Mutable objects, such as lists and dictionaries, can be modified after creation,"
      ],
      "metadata": {
        "id": "djoEfYTCchTx"
      }
    },
    {
      "cell_type": "markdown",
      "source": [
        "6. Why are lists mutable but tuples are immutable?\n",
        " * Lists in python are mutable because an item in the list can be changed or altered from its original content.\n",
        "      But Tupules in python are used to store heterogeneous data and work quite similar to that of databases. Tupules are immutable because the contents inside the tupules cannot be altered or changed after it has been createed."
      ],
      "metadata": {
        "id": "X3NvE_8Yc6fU"
      }
    },
    {
      "cell_type": "markdown",
      "source": [
        "7. What is the difference between '==' and 'is' operator in python?\n",
        " * Operators are special symbols or keywords that are used to carry out specific actions on numbers or variables in Python expression.\n",
        "  Here, '==' is a type of comparison operator, which means the two values on either side of the sign are equal to each other.\n",
        "      On the ther hand 'is'  a comparison operator that is used to check whether two objects are pointing to the same memory location in the computer's memory or not ."
      ],
      "metadata": {
        "id": "0gsVQwFVU_p-"
      }
    },
    {
      "cell_type": "markdown",
      "source": [
        "8. What are logical operators in Python?\n",
        " * Logical operators are a fundamental operation that performs logical calculations on two or more values ​​and produces a result based on the truth values ​​of the inputs . Some examples of logical operators include AND, OR, XOR, and NOT."
      ],
      "metadata": {
        "id": "i5wPmapwYMvG"
      }
    },
    {
      "cell_type": "markdown",
      "source": [
        "9. What are type casting in python?\n",
        " * Type casting, also referred to as type conversion, is the process of changing one data type to another in Python.\n",
        "Python provides built-in functions for type casting, such as int(), float(), str(), list(), tuple(), dict(), etc."
      ],
      "metadata": {
        "id": "1SIEuZw_YxZC"
      }
    },
    {
      "cell_type": "markdown",
      "source": [
        "10. What is the difference between implicit and explicit type casting?\n",
        " * Python provides two types of type casting: Explicit Type Casting: Where the programmer manually converts one data type into another. Implicit Type Casting: Where Python automatically converts one data type to another to prevent data loss or errors."
      ],
      "metadata": {
        "id": "JO_Q0AD2Y_Xw"
      }
    },
    {
      "cell_type": "markdown",
      "source": [
        "11. What is the purpose of a conditional statement in python?\n",
        " * Conditionals in Python are used to execute code based on the evaluation of one or more conditions."
      ],
      "metadata": {
        "id": "Bv4uIJXwZ-6R"
      }
    },
    {
      "cell_type": "markdown",
      "source": [
        "12. How does an elif statement work?\n",
        " * In Python, elif is short for \"else if\" and is used when the first if statement isn't true, but we want to check for another condition. Meaning, if statements pair up with elif and else statements to perform a series of checks."
      ],
      "metadata": {
        "id": "VeuS-PGqaduQ"
      }
    },
    {
      "cell_type": "markdown",
      "source": [
        "13. What is the difference between for anf while loops?\n",
        " * In pytjon “for” loops are used for iterating over a sequence of elements, while “while” loops are used for executing code until a specified condition becomes False"
      ],
      "metadata": {
        "id": "OkaUQE6xa5oa"
      }
    },
    {
      "cell_type": "markdown",
      "source": [
        "14. Describe a scenario where the while loop is more suitable than the for loop.\n",
        " * We would use a while loop if we do not know how many times a loop will need to run because while loops are ideal when the number of iterations is not predetermined. To do number calculations, both while and for loops can be used, but typically a for loop is preferred if you know the exact number of iterations."
      ],
      "metadata": {
        "id": "QXCE7emCbLbU"
      }
    },
    {
      "cell_type": "code",
      "source": [
        "#Practical questions-"
      ],
      "metadata": {
        "id": "8aiBVsAIdaId"
      },
      "execution_count": 1,
      "outputs": []
    },
    {
      "cell_type": "code",
      "source": [
        "#1 Write a python code to print 'Hello,WORLD!'.\n",
        "\n",
        "print(\"Hello.World!\")"
      ],
      "metadata": {
        "colab": {
          "base_uri": "https://localhost:8080/"
        },
        "id": "H1ZO2SO8drnL",
        "outputId": "c4d00969-1bd1-4856-b823-2a430e43a96c"
      },
      "execution_count": 2,
      "outputs": [
        {
          "output_type": "stream",
          "name": "stdout",
          "text": [
            "Hello.World!\n"
          ]
        }
      ]
    },
    {
      "cell_type": "code",
      "source": [
        "#2. Write a Python code that displays your name and age.\n",
        "\n",
        "name = \"Saptarshi\"\n",
        "age = \"24\"\n",
        "name"
      ],
      "metadata": {
        "colab": {
          "base_uri": "https://localhost:8080/",
          "height": 35
        },
        "id": "7GeyEwF8d8ae",
        "outputId": "8fc596b0-e6bb-4f58-f39a-b735c46a7a86"
      },
      "execution_count": 4,
      "outputs": [
        {
          "output_type": "execute_result",
          "data": {
            "text/plain": [
              "'Saptarshi'"
            ],
            "application/vnd.google.colaboratory.intrinsic+json": {
              "type": "string"
            }
          },
          "metadata": {},
          "execution_count": 4
        }
      ]
    },
    {
      "cell_type": "code",
      "source": [
        "age"
      ],
      "metadata": {
        "colab": {
          "base_uri": "https://localhost:8080/",
          "height": 35
        },
        "id": "VcCN3lYAeYN8",
        "outputId": "8b185b4c-d835-40dd-9b82-554d0e94b413"
      },
      "execution_count": 5,
      "outputs": [
        {
          "output_type": "execute_result",
          "data": {
            "text/plain": [
              "'24'"
            ],
            "application/vnd.google.colaboratory.intrinsic+json": {
              "type": "string"
            }
          },
          "metadata": {},
          "execution_count": 5
        }
      ]
    },
    {
      "cell_type": "code",
      "source": [
        "#3. Write a code to print all the predefined keywords in Python using keyword library.\n",
        "\n",
        "help(\"keywords\")"
      ],
      "metadata": {
        "colab": {
          "base_uri": "https://localhost:8080/"
        },
        "id": "hg8vmJOKeeWD",
        "outputId": "83b004f2-093d-4c42-ed93-398a0244948b"
      },
      "execution_count": 6,
      "outputs": [
        {
          "output_type": "stream",
          "name": "stdout",
          "text": [
            "\n",
            "Here is a list of the Python keywords.  Enter any keyword to get more help.\n",
            "\n",
            "False               class               from                or\n",
            "None                continue            global              pass\n",
            "True                def                 if                  raise\n",
            "and                 del                 import              return\n",
            "as                  elif                in                  try\n",
            "assert              else                is                  while\n",
            "async               except              lambda              with\n",
            "await               finally             nonlocal            yield\n",
            "break               for                 not                 \n",
            "\n"
          ]
        }
      ]
    },
    {
      "cell_type": "code",
      "source": [
        "#4 Write a program that checks if a given woed is a Python keyword.\n",
        "\n",
        "print(\"Hello\")"
      ],
      "metadata": {
        "colab": {
          "base_uri": "https://localhost:8080/"
        },
        "id": "bOooFTVlfRyh",
        "outputId": "349c5ea5-1238-46c3-f6e2-eceea1b1b4cd"
      },
      "execution_count": 6,
      "outputs": [
        {
          "output_type": "stream",
          "name": "stdout",
          "text": [
            "Hello\n"
          ]
        }
      ]
    },
    {
      "cell_type": "code",
      "source": [
        "print = \"Rick\"\n",
        "print(\"World\")"
      ],
      "metadata": {
        "colab": {
          "base_uri": "https://localhost:8080/",
          "height": 158
        },
        "id": "flGmSIvSX0TS",
        "outputId": "5ef0540d-ef81-4a55-b151-b86d86ce7482"
      },
      "execution_count": 7,
      "outputs": [
        {
          "output_type": "error",
          "ename": "TypeError",
          "evalue": "'str' object is not callable",
          "traceback": [
            "\u001b[0;31m---------------------------------------------------------------------------\u001b[0m",
            "\u001b[0;31mTypeError\u001b[0m                                 Traceback (most recent call last)",
            "\u001b[0;32m<ipython-input-7-c203939177ec>\u001b[0m in \u001b[0;36m<cell line: 2>\u001b[0;34m()\u001b[0m\n\u001b[1;32m      1\u001b[0m \u001b[0mprint\u001b[0m \u001b[0;34m=\u001b[0m \u001b[0;34m\"Rick\"\u001b[0m\u001b[0;34m\u001b[0m\u001b[0;34m\u001b[0m\u001b[0m\n\u001b[0;32m----> 2\u001b[0;31m \u001b[0mprint\u001b[0m\u001b[0;34m(\u001b[0m\u001b[0;34m\"World\"\u001b[0m\u001b[0;34m)\u001b[0m\u001b[0;34m\u001b[0m\u001b[0;34m\u001b[0m\u001b[0m\n\u001b[0m",
            "\u001b[0;31mTypeError\u001b[0m: 'str' object is not callable"
          ]
        }
      ]
    },
    {
      "cell_type": "code",
      "source": [
        "#5 Create a list and tuple in Python and demonstrate how attempting to change an element works differently for each.\n",
        "#list are mutable:\n",
        "list_container = [ 1, 3, 5, \"joke\", 5+4j, 8.5]\n",
        "list_container"
      ],
      "metadata": {
        "colab": {
          "base_uri": "https://localhost:8080/"
        },
        "id": "VsCqAhZXipvv",
        "outputId": "a20a14cb-2208-4cdc-bd73-d5ba6060245c"
      },
      "execution_count": 14,
      "outputs": [
        {
          "output_type": "execute_result",
          "data": {
            "text/plain": [
              "[1, 3, 5, 'joke', (5+4j), 8.5]"
            ]
          },
          "metadata": {},
          "execution_count": 14
        }
      ]
    },
    {
      "cell_type": "code",
      "source": [
        "list_container[-3] = \"no joke\""
      ],
      "metadata": {
        "id": "7yu9YlvDmAHY"
      },
      "execution_count": 15,
      "outputs": []
    },
    {
      "cell_type": "code",
      "source": [
        "list_container"
      ],
      "metadata": {
        "colab": {
          "base_uri": "https://localhost:8080/"
        },
        "id": "gzEQpaYDm7pT",
        "outputId": "e81d42f6-18c5-480a-b397-ff77b9816dea"
      },
      "execution_count": 16,
      "outputs": [
        {
          "output_type": "execute_result",
          "data": {
            "text/plain": [
              "[1, 3, 5, 'no joke', (5+4j), 8.5]"
            ]
          },
          "metadata": {},
          "execution_count": 16
        }
      ]
    },
    {
      "cell_type": "code",
      "source": [
        "#Tuples are immutable:\n",
        "x =(1 ,2 , 'a', 'b')\n",
        "type(x)"
      ],
      "metadata": {
        "colab": {
          "base_uri": "https://localhost:8080/"
        },
        "id": "sbEkt2Cfm-u5",
        "outputId": "12ea8705-0780-405e-80f5-69bdcd9261dc"
      },
      "execution_count": 17,
      "outputs": [
        {
          "output_type": "execute_result",
          "data": {
            "text/plain": [
              "tuple"
            ]
          },
          "metadata": {},
          "execution_count": 17
        }
      ]
    },
    {
      "cell_type": "code",
      "source": [
        "x[0]=5"
      ],
      "metadata": {
        "colab": {
          "base_uri": "https://localhost:8080/",
          "height": 141
        },
        "id": "CSCir3M8qTfR",
        "outputId": "06b3f480-896d-4ac4-eb53-a634c5f90ac8"
      },
      "execution_count": 18,
      "outputs": [
        {
          "output_type": "error",
          "ename": "TypeError",
          "evalue": "'tuple' object does not support item assignment",
          "traceback": [
            "\u001b[0;31m---------------------------------------------------------------------------\u001b[0m",
            "\u001b[0;31mTypeError\u001b[0m                                 Traceback (most recent call last)",
            "\u001b[0;32m<ipython-input-18-93fe7b87bde4>\u001b[0m in \u001b[0;36m<cell line: 1>\u001b[0;34m()\u001b[0m\n\u001b[0;32m----> 1\u001b[0;31m \u001b[0mx\u001b[0m\u001b[0;34m[\u001b[0m\u001b[0;36m0\u001b[0m\u001b[0;34m]\u001b[0m\u001b[0;34m=\u001b[0m\u001b[0;36m5\u001b[0m\u001b[0;34m\u001b[0m\u001b[0;34m\u001b[0m\u001b[0m\n\u001b[0m",
            "\u001b[0;31mTypeError\u001b[0m: 'tuple' object does not support item assignment"
          ]
        }
      ]
    },
    {
      "cell_type": "code",
      "source": [
        "#6&7 Write a function to demonstrate the behavior of mutable and immutable arguments.\n",
        "\n",
        "x = [2, 4, 6, \"s\", \"o\"]\n",
        "x"
      ],
      "metadata": {
        "colab": {
          "base_uri": "https://localhost:8080/"
        },
        "id": "ohv1yEivqZwC",
        "outputId": "0c4ba87e-1b0e-4238-c6e8-a090129d58c6"
      },
      "execution_count": 19,
      "outputs": [
        {
          "output_type": "execute_result",
          "data": {
            "text/plain": [
              "[2, 4, 6, 's', 'o']"
            ]
          },
          "metadata": {},
          "execution_count": 19
        }
      ]
    },
    {
      "cell_type": "code",
      "source": [
        "x[3]=12"
      ],
      "metadata": {
        "id": "mkaXzpgRsBBY"
      },
      "execution_count": 20,
      "outputs": []
    },
    {
      "cell_type": "code",
      "source": [
        "x"
      ],
      "metadata": {
        "colab": {
          "base_uri": "https://localhost:8080/"
        },
        "id": "GUd8r_kysGmC",
        "outputId": "602f8bf3-daaa-485c-b343-7d22b2ad4641"
      },
      "execution_count": 21,
      "outputs": [
        {
          "output_type": "execute_result",
          "data": {
            "text/plain": [
              "[2, 4, 6, 12, 'o']"
            ]
          },
          "metadata": {},
          "execution_count": 21
        }
      ]
    },
    {
      "cell_type": "code",
      "source": [
        "#string is immutable in python,\n",
        "a =\"development\"\n",
        "a"
      ],
      "metadata": {
        "colab": {
          "base_uri": "https://localhost:8080/",
          "height": 35
        },
        "id": "SVykUJ9csINF",
        "outputId": "aae9e0af-b8a2-4367-f886-51d96cb53eaa"
      },
      "execution_count": 22,
      "outputs": [
        {
          "output_type": "execute_result",
          "data": {
            "text/plain": [
              "'development'"
            ],
            "application/vnd.google.colaboratory.intrinsic+json": {
              "type": "string"
            }
          },
          "metadata": {},
          "execution_count": 22
        }
      ]
    },
    {
      "cell_type": "code",
      "source": [
        "a[4] = \"s\""
      ],
      "metadata": {
        "colab": {
          "base_uri": "https://localhost:8080/",
          "height": 141
        },
        "id": "RzzpV4dHsYNY",
        "outputId": "e2544f97-70bc-4206-de76-d9a26d5ab879"
      },
      "execution_count": 24,
      "outputs": [
        {
          "output_type": "error",
          "ename": "TypeError",
          "evalue": "'str' object does not support item assignment",
          "traceback": [
            "\u001b[0;31m---------------------------------------------------------------------------\u001b[0m",
            "\u001b[0;31mTypeError\u001b[0m                                 Traceback (most recent call last)",
            "\u001b[0;32m<ipython-input-24-28cb4479c279>\u001b[0m in \u001b[0;36m<cell line: 1>\u001b[0;34m()\u001b[0m\n\u001b[0;32m----> 1\u001b[0;31m \u001b[0ma\u001b[0m\u001b[0;34m[\u001b[0m\u001b[0;36m4\u001b[0m\u001b[0;34m]\u001b[0m \u001b[0;34m=\u001b[0m \u001b[0;34m\"s\"\u001b[0m\u001b[0;34m\u001b[0m\u001b[0;34m\u001b[0m\u001b[0m\n\u001b[0m",
            "\u001b[0;31mTypeError\u001b[0m: 'str' object does not support item assignment"
          ]
        }
      ]
    },
    {
      "cell_type": "code",
      "source": [
        "#8 Write a program to demonstrate the use of logical operators.\n",
        "\n",
        "There are two types of logial operators, #and #or"
      ],
      "metadata": {
        "id": "q1tbqjO2sch_"
      },
      "execution_count": 28,
      "outputs": []
    },
    {
      "cell_type": "code",
      "source": [
        "#and operator-\n",
        "True and True"
      ],
      "metadata": {
        "colab": {
          "base_uri": "https://localhost:8080/"
        },
        "id": "wykj5m5rtevl",
        "outputId": "f3d3f254-331a-4652-98b7-c36ffc7ec48e"
      },
      "execution_count": 29,
      "outputs": [
        {
          "output_type": "execute_result",
          "data": {
            "text/plain": [
              "True"
            ]
          },
          "metadata": {},
          "execution_count": 29
        }
      ]
    },
    {
      "cell_type": "code",
      "source": [
        "True and False"
      ],
      "metadata": {
        "colab": {
          "base_uri": "https://localhost:8080/"
        },
        "id": "c0aEfEIXuLQG",
        "outputId": "4979d58e-3889-4452-b07a-75d2d2f6793b"
      },
      "execution_count": 30,
      "outputs": [
        {
          "output_type": "execute_result",
          "data": {
            "text/plain": [
              "False"
            ]
          },
          "metadata": {},
          "execution_count": 30
        }
      ]
    },
    {
      "cell_type": "code",
      "source": [
        "False and True"
      ],
      "metadata": {
        "colab": {
          "base_uri": "https://localhost:8080/"
        },
        "id": "vR_gfSZiuN6P",
        "outputId": "78bea706-eef1-470e-fd75-1e231f6fc7a1"
      },
      "execution_count": 31,
      "outputs": [
        {
          "output_type": "execute_result",
          "data": {
            "text/plain": [
              "False"
            ]
          },
          "metadata": {},
          "execution_count": 31
        }
      ]
    },
    {
      "cell_type": "code",
      "source": [
        "False and False"
      ],
      "metadata": {
        "colab": {
          "base_uri": "https://localhost:8080/"
        },
        "id": "aGoBNT6QuQ2L",
        "outputId": "33076b79-ef19-49c4-c9fc-6a721e9c0191"
      },
      "execution_count": 32,
      "outputs": [
        {
          "output_type": "execute_result",
          "data": {
            "text/plain": [
              "False"
            ]
          },
          "metadata": {},
          "execution_count": 32
        }
      ]
    },
    {
      "cell_type": "code",
      "source": [
        "#or operator-\n",
        "True or True"
      ],
      "metadata": {
        "colab": {
          "base_uri": "https://localhost:8080/"
        },
        "id": "A0rdggOguS8E",
        "outputId": "28926ee5-a015-4e21-ef25-e7dc343d3ce2"
      },
      "execution_count": 33,
      "outputs": [
        {
          "output_type": "execute_result",
          "data": {
            "text/plain": [
              "True"
            ]
          },
          "metadata": {},
          "execution_count": 33
        }
      ]
    },
    {
      "cell_type": "code",
      "source": [
        "True or False"
      ],
      "metadata": {
        "colab": {
          "base_uri": "https://localhost:8080/"
        },
        "id": "KJFxJ-i5ueJR",
        "outputId": "749b08d8-30e0-418b-8730-22fb18d5315b"
      },
      "execution_count": 34,
      "outputs": [
        {
          "output_type": "execute_result",
          "data": {
            "text/plain": [
              "True"
            ]
          },
          "metadata": {},
          "execution_count": 34
        }
      ]
    },
    {
      "cell_type": "code",
      "source": [
        "False or True"
      ],
      "metadata": {
        "colab": {
          "base_uri": "https://localhost:8080/"
        },
        "id": "PdCL-IqruhTb",
        "outputId": "b605567a-4e41-4aa0-9864-5bd3aa21b380"
      },
      "execution_count": 35,
      "outputs": [
        {
          "output_type": "execute_result",
          "data": {
            "text/plain": [
              "True"
            ]
          },
          "metadata": {},
          "execution_count": 35
        }
      ]
    },
    {
      "cell_type": "code",
      "source": [
        "False or False"
      ],
      "metadata": {
        "colab": {
          "base_uri": "https://localhost:8080/"
        },
        "id": "WejOirmjuoWB",
        "outputId": "c27d1323-839f-42b9-e0d1-44562da91fbe"
      },
      "execution_count": 36,
      "outputs": [
        {
          "output_type": "execute_result",
          "data": {
            "text/plain": [
              "False"
            ]
          },
          "metadata": {},
          "execution_count": 36
        }
      ]
    },
    {
      "cell_type": "code",
      "source": [
        "#9 Write a program to convert user input from string to integer,float and boolean types.\n",
        "\n",
        "x = \"12\"\n",
        "x"
      ],
      "metadata": {
        "colab": {
          "base_uri": "https://localhost:8080/",
          "height": 35
        },
        "id": "pf7sq4lHuwib",
        "outputId": "babc115d-4eef-4845-893b-b6094eee58e2"
      },
      "execution_count": 38,
      "outputs": [
        {
          "output_type": "execute_result",
          "data": {
            "text/plain": [
              "'12'"
            ],
            "application/vnd.google.colaboratory.intrinsic+json": {
              "type": "string"
            }
          },
          "metadata": {},
          "execution_count": 38
        }
      ]
    },
    {
      "cell_type": "code",
      "source": [
        "type(x)"
      ],
      "metadata": {
        "colab": {
          "base_uri": "https://localhost:8080/"
        },
        "id": "zRnCf5rnvQtU",
        "outputId": "1bb6b77b-f65f-4a00-801d-a6d0f7ddcbaf"
      },
      "execution_count": 39,
      "outputs": [
        {
          "output_type": "execute_result",
          "data": {
            "text/plain": [
              "str"
            ]
          },
          "metadata": {},
          "execution_count": 39
        }
      ]
    },
    {
      "cell_type": "code",
      "source": [
        "int(x)"
      ],
      "metadata": {
        "colab": {
          "base_uri": "https://localhost:8080/"
        },
        "id": "E88iqISYvStg",
        "outputId": "349e5874-9ed6-4abf-97e9-4769416bcc5f"
      },
      "execution_count": 40,
      "outputs": [
        {
          "output_type": "execute_result",
          "data": {
            "text/plain": [
              "12"
            ]
          },
          "metadata": {},
          "execution_count": 40
        }
      ]
    },
    {
      "cell_type": "code",
      "source": [
        "float(x)"
      ],
      "metadata": {
        "colab": {
          "base_uri": "https://localhost:8080/"
        },
        "id": "xSPzv8V9vVG7",
        "outputId": "38a41b9f-4ce0-4399-a3ae-e9551ebc1a74"
      },
      "execution_count": 41,
      "outputs": [
        {
          "output_type": "execute_result",
          "data": {
            "text/plain": [
              "12.0"
            ]
          },
          "metadata": {},
          "execution_count": 41
        }
      ]
    },
    {
      "cell_type": "code",
      "source": [
        "bool(x)"
      ],
      "metadata": {
        "colab": {
          "base_uri": "https://localhost:8080/"
        },
        "id": "Kx2Ek3OqvXzq",
        "outputId": "9e03ba67-70f9-49fc-9c77-f98490bb3cdd"
      },
      "execution_count": 42,
      "outputs": [
        {
          "output_type": "execute_result",
          "data": {
            "text/plain": [
              "True"
            ]
          },
          "metadata": {},
          "execution_count": 42
        }
      ]
    },
    {
      "cell_type": "code",
      "source": [
        "#10 Write a code to demonstrate type casting with list elements.\n",
        "\n",
        "a =[\"2\", \"3\", \"4\"]\n",
        "type(a)"
      ],
      "metadata": {
        "colab": {
          "base_uri": "https://localhost:8080/"
        },
        "id": "wJCo3lZAvZpW",
        "outputId": "08d767d6-79ed-4756-b014-dfc9e3346bb6"
      },
      "execution_count": 16,
      "outputs": [
        {
          "output_type": "execute_result",
          "data": {
            "text/plain": [
              "list"
            ]
          },
          "metadata": {},
          "execution_count": 16
        }
      ]
    },
    {
      "cell_type": "code",
      "source": [
        "list(map(int, a))"
      ],
      "metadata": {
        "colab": {
          "base_uri": "https://localhost:8080/"
        },
        "id": "FHPWEky3iT-1",
        "outputId": "89c0de14-5095-489e-9375-35821c5f4e2b"
      },
      "execution_count": 20,
      "outputs": [
        {
          "output_type": "execute_result",
          "data": {
            "text/plain": [
              "[2, 3, 4]"
            ]
          },
          "metadata": {},
          "execution_count": 20
        }
      ]
    },
    {
      "cell_type": "code",
      "source": [
        "#11 Write a program that checks if a number is positive, negative, or zero.\n",
        "\n",
        "a =int(input(\"Enter a number\"))\n",
        "if a<0:\n",
        "  print(\"The given number is negative\")\n",
        "elif a>0:\n",
        "  print(\"The givn number is positive\")\n",
        "else:\n",
        "  print(\"The given number is zero\")"
      ],
      "metadata": {
        "colab": {
          "base_uri": "https://localhost:8080/"
        },
        "id": "pawEd5lVjbOX",
        "outputId": "031b4a58-684e-4b56-f42f-b8ee9ffda3cb"
      },
      "execution_count": 23,
      "outputs": [
        {
          "output_type": "stream",
          "name": "stdout",
          "text": [
            "Enter a number-9\n",
            "The given number is negative\n"
          ]
        }
      ]
    },
    {
      "cell_type": "code",
      "source": [
        "a =int(input(\"Enter a number\"))\n",
        "if a<0:\n",
        "  print(\"The given number is negative\")\n",
        "elif a>0:\n",
        "  print(\"The givn number is positive\")\n",
        "else:\n",
        "  print(\"The given number is zero\")"
      ],
      "metadata": {
        "colab": {
          "base_uri": "https://localhost:8080/"
        },
        "id": "ukna4IKine6X",
        "outputId": "a5b70495-0809-49e7-92f5-d94500d42b8f"
      },
      "execution_count": 24,
      "outputs": [
        {
          "output_type": "stream",
          "name": "stdout",
          "text": [
            "Enter a number0\n",
            "The given number is zero\n"
          ]
        }
      ]
    },
    {
      "cell_type": "code",
      "source": [
        "#12 Write a for loop to print the numbers from 1 to 10.\n",
        "\n",
        "list(range(1,11))"
      ],
      "metadata": {
        "colab": {
          "base_uri": "https://localhost:8080/"
        },
        "id": "EMC_vVuZoCge",
        "outputId": "68fabb0b-5062-44c4-cd8e-4aaa36ebe9a4"
      },
      "execution_count": 26,
      "outputs": [
        {
          "output_type": "execute_result",
          "data": {
            "text/plain": [
              "[1, 2, 3, 4, 5, 6, 7, 8, 9, 10]"
            ]
          },
          "metadata": {},
          "execution_count": 26
        }
      ]
    },
    {
      "cell_type": "code",
      "source": [
        "for i in range(1,11):\n",
        " print (i)"
      ],
      "metadata": {
        "colab": {
          "base_uri": "https://localhost:8080/"
        },
        "id": "zdS3rkP2oT4z",
        "outputId": "4fb37bff-5e10-4415-ea8f-4caba977c769"
      },
      "execution_count": 30,
      "outputs": [
        {
          "output_type": "stream",
          "name": "stdout",
          "text": [
            "1\n",
            "2\n",
            "3\n",
            "4\n",
            "5\n",
            "6\n",
            "7\n",
            "8\n",
            "9\n",
            "10\n"
          ]
        }
      ]
    },
    {
      "cell_type": "code",
      "source": [
        "#13 Write a Python program to find the sum of all even numbers fron 1 to 50.\n",
        "\n",
        "for i in range(50):\n",
        "  if i%2 !=0:\n",
        "    continue\n",
        "  print(i)"
      ],
      "metadata": {
        "colab": {
          "base_uri": "https://localhost:8080/"
        },
        "id": "CYf2jpJzpE9e",
        "outputId": "f6b653e1-d4b0-421f-8ded-76527aea6a0a"
      },
      "execution_count": 31,
      "outputs": [
        {
          "output_type": "stream",
          "name": "stdout",
          "text": [
            "0\n",
            "2\n",
            "4\n",
            "6\n",
            "8\n",
            "10\n",
            "12\n",
            "14\n",
            "16\n",
            "18\n",
            "20\n",
            "22\n",
            "24\n",
            "26\n",
            "28\n",
            "30\n",
            "32\n",
            "34\n",
            "36\n",
            "38\n",
            "40\n",
            "42\n",
            "44\n",
            "46\n",
            "48\n"
          ]
        }
      ]
    },
    {
      "cell_type": "code",
      "source": [
        "#14 Write a program to reverse a srting using while loop.\n",
        "\n",
        "string = 'python'\n",
        "rev_str=\"\"\n",
        "length=len(string)-1\n",
        "while length >=0:\n",
        "  rev_str += string[length]\n",
        "  length -= 1\n",
        "  print(rev_str)"
      ],
      "metadata": {
        "colab": {
          "base_uri": "https://localhost:8080/"
        },
        "id": "HpQbpithqBoH",
        "outputId": "8d2c2587-288c-4601-d913-4631a81c3cfd"
      },
      "execution_count": 2,
      "outputs": [
        {
          "output_type": "stream",
          "name": "stdout",
          "text": [
            "n\n",
            "no\n",
            "noh\n",
            "noht\n",
            "nohty\n",
            "nohtyp\n"
          ]
        }
      ]
    },
    {
      "cell_type": "code",
      "source": [
        "#15  Write a Python program to calculate the factorial of a number provided by the user using a while loop.\n",
        "\n",
        "num= int(input(\"Enter a number:\"))\n",
        "fact=1\n",
        "while(num>0):\n",
        "  fact= fact*num\n",
        "  num = num-1\n",
        "  print(\"FActorial number is:\",fact)\n",
        ""
      ],
      "metadata": {
        "colab": {
          "base_uri": "https://localhost:8080/"
        },
        "id": "bVvyLUN4YidI",
        "outputId": "9104703d-bc59-4dea-8207-a3d19bfdb6c1"
      },
      "execution_count": 3,
      "outputs": [
        {
          "output_type": "stream",
          "name": "stdout",
          "text": [
            "Enter a number:5\n",
            "FActorial number is: 5\n",
            "FActorial number is: 20\n",
            "FActorial number is: 60\n",
            "FActorial number is: 120\n",
            "FActorial number is: 120\n"
          ]
        }
      ]
    },
    {
      "cell_type": "code",
      "source": [],
      "metadata": {
        "id": "dA-_AVw2Z8UA"
      },
      "execution_count": null,
      "outputs": []
    }
  ]
}